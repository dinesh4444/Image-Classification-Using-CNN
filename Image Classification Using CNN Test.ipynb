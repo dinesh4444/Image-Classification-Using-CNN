{
 "cells": [
  {
   "cell_type": "code",
   "execution_count": 15,
   "id": "b1a032c9",
   "metadata": {},
   "outputs": [],
   "source": [
    "from keras.models import model_from_json\n",
    "import numpy as np\n",
    "from keras.preprocessing import image\n",
    "import keras.utils as image"
   ]
  },
  {
   "cell_type": "code",
   "execution_count": 13,
   "id": "084b48aa",
   "metadata": {},
   "outputs": [
    {
     "name": "stdout",
     "output_type": "stream",
     "text": [
      "Loaded model from disk\n"
     ]
    }
   ],
   "source": [
    "json_file = open('model.json', 'r')\n",
    "loaded_model = json_file.read()\n",
    "json_file.close()\n",
    "model = model_from_json(loaded_model)\n",
    "model.load_weights('model.h5')\n",
    "print('Loaded model from disk')"
   ]
  },
  {
   "cell_type": "code",
   "execution_count": 18,
   "id": "f47952d8",
   "metadata": {},
   "outputs": [
    {
     "name": "stdout",
     "output_type": "stream",
     "text": [
      "1/1 [==============================] - 0s 31ms/step\n",
      "banana C:\\Users\\HP.DESKTOP-5IHNLMQ\\Desktop\\Python Course\\Dataset\\test\\Image_55.jpeg\n",
      "\n",
      "\n"
     ]
    }
   ],
   "source": [
    "def classify(img_file):\n",
    "    img_name = img_file\n",
    "    test_image = image.load_img(img_name, target_size=(64,64))\n",
    "    test_image = image.img_to_array(test_image)\n",
    "    test_image = np.expand_dims(test_image, axis=0)\n",
    "    result = model.predict(test_image)\n",
    "    if result[0][0] == 1:\n",
    "        prediction = 'banana'\n",
    "    else:\n",
    "        prediction = 'orange'\n",
    "        \n",
    "    print(prediction, img_name)\n",
    "    \n",
    "    \n",
    "import os\n",
    "path = r'C:\\Users\\HP.DESKTOP-5IHNLMQ\\Desktop\\Python Course\\Dataset\\test'\n",
    "files = []\n",
    "\n",
    "#r=root, d=directory, f=files\n",
    "\n",
    "for r, d, f in os.walk(path):\n",
    "    for file in f:\n",
    "        if '.jpeg' in file:\n",
    "            files.append(os.path.join(r, file))\n",
    "\n",
    "for f in files:\n",
    "    classify(f)\n",
    "    print('\\n')  "
   ]
  },
  {
   "cell_type": "code",
   "execution_count": null,
   "id": "fb963a03",
   "metadata": {},
   "outputs": [],
   "source": []
  }
 ],
 "metadata": {
  "kernelspec": {
   "display_name": "Python 3 (ipykernel)",
   "language": "python",
   "name": "python3"
  },
  "language_info": {
   "codemirror_mode": {
    "name": "ipython",
    "version": 3
   },
   "file_extension": ".py",
   "mimetype": "text/x-python",
   "name": "python",
   "nbconvert_exporter": "python",
   "pygments_lexer": "ipython3",
   "version": "3.9.13"
  }
 },
 "nbformat": 4,
 "nbformat_minor": 5
}
